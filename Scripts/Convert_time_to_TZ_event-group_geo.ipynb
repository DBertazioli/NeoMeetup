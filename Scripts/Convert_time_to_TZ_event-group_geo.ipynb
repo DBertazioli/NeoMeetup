{
 "cells": [
  {
   "cell_type": "code",
   "execution_count": 1,
   "metadata": {},
   "outputs": [],
   "source": [
    "import pandas as pd\n",
    "from pytz import country_timezones\n",
    "import time\n",
    "import numpy as np\n",
    "import timezonefinder\n",
    "from datetime import datetime as dt\n",
    "import pytz\n",
    "import calendar\n",
    "import seaborn as sns\n",
    "%matplotlib inline\n",
    "from matplotlib import rcParams"
   ]
  },
  {
   "cell_type": "code",
   "execution_count": 2,
   "metadata": {},
   "outputs": [],
   "source": [
    "start_ini = time.time() #check time"
   ]
  },
  {
   "cell_type": "code",
   "execution_count": 2,
   "metadata": {},
   "outputs": [],
   "source": [
    "import warnings\n",
    "warnings.filterwarnings('ignore') #remove warning"
   ]
  },
  {
   "cell_type": "code",
   "execution_count": 4,
   "metadata": {
    "scrolled": true
   },
   "outputs": [
    {
     "data": {
      "text/html": [
       "<div>\n",
       "<style scoped>\n",
       "    .dataframe tbody tr th:only-of-type {\n",
       "        vertical-align: middle;\n",
       "    }\n",
       "\n",
       "    .dataframe tbody tr th {\n",
       "        vertical-align: top;\n",
       "    }\n",
       "\n",
       "    .dataframe thead th {\n",
       "        text-align: right;\n",
       "    }\n",
       "</style>\n",
       "<table border=\"1\" class=\"dataframe\">\n",
       "  <thead>\n",
       "    <tr style=\"text-align: right;\">\n",
       "      <th></th>\n",
       "      <th>ID</th>\n",
       "      <th>time</th>\n",
       "      <th>country</th>\n",
       "      <th>state</th>\n",
       "      <th>lon</th>\n",
       "      <th>lat</th>\n",
       "      <th>partecipanti</th>\n",
       "    </tr>\n",
       "  </thead>\n",
       "  <tbody>\n",
       "    <tr>\n",
       "      <th>0</th>\n",
       "      <td>260269871</td>\n",
       "      <td>5317552800000</td>\n",
       "      <td>us</td>\n",
       "      <td>ca</td>\n",
       "      <td>-118.33</td>\n",
       "      <td>33.87</td>\n",
       "      <td>1</td>\n",
       "    </tr>\n",
       "    <tr>\n",
       "      <th>1</th>\n",
       "      <td>260260779</td>\n",
       "      <td>3384554400000</td>\n",
       "      <td>us</td>\n",
       "      <td>wa</td>\n",
       "      <td>-117.43</td>\n",
       "      <td>47.67</td>\n",
       "      <td>2</td>\n",
       "    </tr>\n",
       "    <tr>\n",
       "      <th>2</th>\n",
       "      <td>ztbltqyxcdbbc</td>\n",
       "      <td>2150290800000</td>\n",
       "      <td>us</td>\n",
       "      <td>tn</td>\n",
       "      <td>-86.72</td>\n",
       "      <td>36.08</td>\n",
       "      <td>1</td>\n",
       "    </tr>\n",
       "    <tr>\n",
       "      <th>3</th>\n",
       "      <td>260361735</td>\n",
       "      <td>1924992000000</td>\n",
       "      <td>sg</td>\n",
       "      <td>sg</td>\n",
       "      <td>103.85</td>\n",
       "      <td>1.30</td>\n",
       "      <td>1</td>\n",
       "    </tr>\n",
       "    <tr>\n",
       "      <th>4</th>\n",
       "      <td>260337211</td>\n",
       "      <td>1924992000000</td>\n",
       "      <td>sg</td>\n",
       "      <td>sg</td>\n",
       "      <td>103.85</td>\n",
       "      <td>1.30</td>\n",
       "      <td>1</td>\n",
       "    </tr>\n",
       "  </tbody>\n",
       "</table>\n",
       "</div>"
      ],
      "text/plain": [
       "              ID           time country state     lon    lat  partecipanti\n",
       "0      260269871  5317552800000      us    ca -118.33  33.87             1\n",
       "1      260260779  3384554400000      us    wa -117.43  47.67             2\n",
       "2  ztbltqyxcdbbc  2150290800000      us    tn  -86.72  36.08             1\n",
       "3      260361735  1924992000000      sg    sg  103.85   1.30             1\n",
       "4      260337211  1924992000000      sg    sg  103.85   1.30             1"
      ]
     },
     "execution_count": 4,
     "metadata": {},
     "output_type": "execute_result"
    }
   ],
   "source": [
    "#import dataset\n",
    "df = pd.read_csv('https://media.githubusercontent.com/media/DBertazioli/NeoMeetup/master/csv/exported_queries/Distribuzione_temporale_eventi.csv')\n",
    "df.head()"
   ]
  },
  {
   "cell_type": "code",
   "execution_count": 5,
   "metadata": {},
   "outputs": [
    {
     "data": {
      "text/html": [
       "<div>\n",
       "<style scoped>\n",
       "    .dataframe tbody tr th:only-of-type {\n",
       "        vertical-align: middle;\n",
       "    }\n",
       "\n",
       "    .dataframe tbody tr th {\n",
       "        vertical-align: top;\n",
       "    }\n",
       "\n",
       "    .dataframe thead th {\n",
       "        text-align: right;\n",
       "    }\n",
       "</style>\n",
       "<table border=\"1\" class=\"dataframe\">\n",
       "  <thead>\n",
       "    <tr style=\"text-align: right;\">\n",
       "      <th></th>\n",
       "      <th>ID</th>\n",
       "      <th>time</th>\n",
       "      <th>country</th>\n",
       "      <th>state</th>\n",
       "      <th>lon</th>\n",
       "      <th>lat</th>\n",
       "      <th>partecipanti</th>\n",
       "    </tr>\n",
       "  </thead>\n",
       "  <tbody>\n",
       "  </tbody>\n",
       "</table>\n",
       "</div>"
      ],
      "text/plain": [
       "Empty DataFrame\n",
       "Columns: [ID, time, country, state, lon, lat, partecipanti]\n",
       "Index: []"
      ]
     },
     "execution_count": 5,
     "metadata": {},
     "output_type": "execute_result"
    }
   ],
   "source": [
    "df['state'] = df['state'].str.lower() #lower charcter 'NONE'-->'none'\n",
    "df[df['state'] == 'none'].head()"
   ]
  },
  {
   "cell_type": "code",
   "execution_count": 6,
   "metadata": {},
   "outputs": [],
   "source": [
    "df.loc[df['state'] == 'none', 'state'] = df['country'] #fill the state's value with country's value if there was 'none'"
   ]
  },
  {
   "cell_type": "code",
   "execution_count": 7,
   "metadata": {},
   "outputs": [
    {
     "data": {
      "text/plain": [
       "ID              0\n",
       "time            0\n",
       "country         0\n",
       "state           0\n",
       "lon             0\n",
       "lat             0\n",
       "partecipanti    0\n",
       "dtype: int64"
      ]
     },
     "execution_count": 7,
     "metadata": {},
     "output_type": "execute_result"
    }
   ],
   "source": [
    "df.isnull().sum() #check sum of nan fro columns"
   ]
  },
  {
   "cell_type": "code",
   "execution_count": 8,
   "metadata": {},
   "outputs": [],
   "source": [
    "df = df.dropna() #rm nan value for all df (rows)"
   ]
  },
  {
   "cell_type": "code",
   "execution_count": 9,
   "metadata": {},
   "outputs": [
    {
     "data": {
      "text/plain": [
       "name       False\n",
       "time       False\n",
       "country    False\n",
       "state      False\n",
       "lon        False\n",
       "lat        False\n",
       "dtype: bool"
      ]
     },
     "execution_count": 9,
     "metadata": {},
     "output_type": "execute_result"
    }
   ],
   "source": [
    "df.isnull().any() #check"
   ]
  },
  {
   "cell_type": "code",
   "execution_count": 10,
   "metadata": {},
   "outputs": [],
   "source": [
    "#df.loc[df['state'] == 'none', 'state'] = df.fillna(value=pd.np.nan, inplace=True) \n",
    "#it's only if would take nan into country that do not have a state"
   ]
  },
  {
   "cell_type": "code",
   "execution_count": 11,
   "metadata": {},
   "outputs": [],
   "source": [
    "#df.isnull().sum() #check"
   ]
  },
  {
   "cell_type": "code",
   "execution_count": 12,
   "metadata": {
    "scrolled": true
   },
   "outputs": [],
   "source": [
    "#df.isnull().any() #another check :/"
   ]
  },
  {
   "cell_type": "code",
   "execution_count": 8,
   "metadata": {},
   "outputs": [
    {
     "ename": "TypeError",
     "evalue": "invalid type comparison",
     "output_type": "error",
     "traceback": [
      "\u001b[1;31m---------------------------------------------------------------------------\u001b[0m",
      "\u001b[1;31mTypeError\u001b[0m                                 Traceback (most recent call last)",
      "\u001b[1;32m<ipython-input-8-667dfbd82242>\u001b[0m in \u001b[0;36m<module>\u001b[1;34m()\u001b[0m\n\u001b[0;32m      2\u001b[0m \u001b[1;31m#df['lon'] = df['lon'].str.lower() *****crea problemi con NAN su 180k rows di lat******\u001b[0m\u001b[1;33m\u001b[0m\u001b[1;33m\u001b[0m\u001b[0m\n\u001b[0;32m      3\u001b[0m \u001b[1;31m#df['lat'] = df['lat'].str.lower()\u001b[0m\u001b[1;33m\u001b[0m\u001b[1;33m\u001b[0m\u001b[0m\n\u001b[1;32m----> 4\u001b[1;33m \u001b[0mdf\u001b[0m\u001b[1;33m.\u001b[0m\u001b[0mloc\u001b[0m\u001b[1;33m[\u001b[0m\u001b[0mdf\u001b[0m\u001b[1;33m[\u001b[0m\u001b[1;34m'lon'\u001b[0m\u001b[1;33m]\u001b[0m \u001b[1;33m==\u001b[0m \u001b[1;34m'NONE'\u001b[0m\u001b[1;33m,\u001b[0m \u001b[1;34m'lon'\u001b[0m\u001b[1;33m]\u001b[0m \u001b[1;33m=\u001b[0m \u001b[0mdf\u001b[0m\u001b[1;33m.\u001b[0m\u001b[0mfillna\u001b[0m\u001b[1;33m(\u001b[0m\u001b[0mvalue\u001b[0m\u001b[1;33m=\u001b[0m\u001b[0mpd\u001b[0m\u001b[1;33m.\u001b[0m\u001b[0mnp\u001b[0m\u001b[1;33m.\u001b[0m\u001b[0mnan\u001b[0m\u001b[1;33m,\u001b[0m \u001b[0minplace\u001b[0m\u001b[1;33m=\u001b[0m\u001b[1;32mTrue\u001b[0m\u001b[1;33m)\u001b[0m\u001b[1;33m\u001b[0m\u001b[0m\n\u001b[0m\u001b[0;32m      5\u001b[0m \u001b[0mdf\u001b[0m\u001b[1;33m.\u001b[0m\u001b[0mloc\u001b[0m\u001b[1;33m[\u001b[0m\u001b[0mdf\u001b[0m\u001b[1;33m[\u001b[0m\u001b[1;34m'lat'\u001b[0m\u001b[1;33m]\u001b[0m \u001b[1;33m==\u001b[0m \u001b[1;34m'NONE'\u001b[0m\u001b[1;33m,\u001b[0m \u001b[1;34m'lat'\u001b[0m\u001b[1;33m]\u001b[0m \u001b[1;33m=\u001b[0m \u001b[0mdf\u001b[0m\u001b[1;33m.\u001b[0m\u001b[0mfillna\u001b[0m\u001b[1;33m(\u001b[0m\u001b[0mvalue\u001b[0m\u001b[1;33m=\u001b[0m\u001b[0mpd\u001b[0m\u001b[1;33m.\u001b[0m\u001b[0mnp\u001b[0m\u001b[1;33m.\u001b[0m\u001b[0mnan\u001b[0m\u001b[1;33m,\u001b[0m \u001b[0minplace\u001b[0m\u001b[1;33m=\u001b[0m\u001b[1;32mTrue\u001b[0m\u001b[1;33m)\u001b[0m\u001b[1;33m\u001b[0m\u001b[0m\n\u001b[0;32m      6\u001b[0m \u001b[0mdf\u001b[0m\u001b[1;33m.\u001b[0m\u001b[0misnull\u001b[0m\u001b[1;33m(\u001b[0m\u001b[1;33m)\u001b[0m\u001b[1;33m.\u001b[0m\u001b[0msum\u001b[0m\u001b[1;33m(\u001b[0m\u001b[1;33m)\u001b[0m\u001b[1;33m\u001b[0m\u001b[0m\n",
      "\u001b[1;32m~\\Anaconda3\\lib\\site-packages\\pandas\\core\\ops.py\u001b[0m in \u001b[0;36mwrapper\u001b[1;34m(self, other, axis)\u001b[0m\n\u001b[0;32m   1281\u001b[0m \u001b[1;33m\u001b[0m\u001b[0m\n\u001b[0;32m   1282\u001b[0m             \u001b[1;32mwith\u001b[0m \u001b[0mnp\u001b[0m\u001b[1;33m.\u001b[0m\u001b[0merrstate\u001b[0m\u001b[1;33m(\u001b[0m\u001b[0mall\u001b[0m\u001b[1;33m=\u001b[0m\u001b[1;34m'ignore'\u001b[0m\u001b[1;33m)\u001b[0m\u001b[1;33m:\u001b[0m\u001b[1;33m\u001b[0m\u001b[0m\n\u001b[1;32m-> 1283\u001b[1;33m                 \u001b[0mres\u001b[0m \u001b[1;33m=\u001b[0m \u001b[0mna_op\u001b[0m\u001b[1;33m(\u001b[0m\u001b[0mvalues\u001b[0m\u001b[1;33m,\u001b[0m \u001b[0mother\u001b[0m\u001b[1;33m)\u001b[0m\u001b[1;33m\u001b[0m\u001b[0m\n\u001b[0m\u001b[0;32m   1284\u001b[0m             \u001b[1;32mif\u001b[0m \u001b[0mis_scalar\u001b[0m\u001b[1;33m(\u001b[0m\u001b[0mres\u001b[0m\u001b[1;33m)\u001b[0m\u001b[1;33m:\u001b[0m\u001b[1;33m\u001b[0m\u001b[0m\n\u001b[0;32m   1285\u001b[0m                 raise TypeError('Could not compare {typ} type with Series'\n",
      "\u001b[1;32m~\\Anaconda3\\lib\\site-packages\\pandas\\core\\ops.py\u001b[0m in \u001b[0;36mna_op\u001b[1;34m(x, y)\u001b[0m\n\u001b[0;32m   1167\u001b[0m                     \u001b[0mresult\u001b[0m \u001b[1;33m=\u001b[0m \u001b[0mmethod\u001b[0m\u001b[1;33m(\u001b[0m\u001b[0my\u001b[0m\u001b[1;33m)\u001b[0m\u001b[1;33m\u001b[0m\u001b[0m\n\u001b[0;32m   1168\u001b[0m                 \u001b[1;32mif\u001b[0m \u001b[0mresult\u001b[0m \u001b[1;32mis\u001b[0m \u001b[0mNotImplemented\u001b[0m\u001b[1;33m:\u001b[0m\u001b[1;33m\u001b[0m\u001b[0m\n\u001b[1;32m-> 1169\u001b[1;33m                     \u001b[1;32mraise\u001b[0m \u001b[0mTypeError\u001b[0m\u001b[1;33m(\u001b[0m\u001b[1;34m\"invalid type comparison\"\u001b[0m\u001b[1;33m)\u001b[0m\u001b[1;33m\u001b[0m\u001b[0m\n\u001b[0m\u001b[0;32m   1170\u001b[0m             \u001b[1;32melse\u001b[0m\u001b[1;33m:\u001b[0m\u001b[1;33m\u001b[0m\u001b[0m\n\u001b[0;32m   1171\u001b[0m                 \u001b[0mresult\u001b[0m \u001b[1;33m=\u001b[0m \u001b[0mop\u001b[0m\u001b[1;33m(\u001b[0m\u001b[0mx\u001b[0m\u001b[1;33m,\u001b[0m \u001b[0my\u001b[0m\u001b[1;33m)\u001b[0m\u001b[1;33m\u001b[0m\u001b[0m\n",
      "\u001b[1;31mTypeError\u001b[0m: invalid type comparison"
     ]
    }
   ],
   "source": [
    "#same method for check nan value into coordinates\n",
    "#df['lon'] = df['lon'].str.lower() *****crea problemi con NAN su 180k rows di lat******\n",
    "#df['lat'] = df['lat'].str.lower()\n",
    "#df.loc[df['lon'] == 'NONE', 'lon'] = df.fillna(value=pd.np.nan, inplace=True)\n",
    "#df.loc[df['lat'] == 'NONE', 'lat'] = df.fillna(value=pd.np.nan, inplace=True)\n",
    "#df.isnull().sum()"
   ]
  },
  {
   "cell_type": "code",
   "execution_count": 9,
   "metadata": {
    "scrolled": true
   },
   "outputs": [
    {
     "data": {
      "text/plain": [
       "ID              0\n",
       "time            0\n",
       "country         0\n",
       "state           0\n",
       "lon             0\n",
       "lat             0\n",
       "partecipanti    0\n",
       "dtype: int64"
      ]
     },
     "execution_count": 9,
     "metadata": {},
     "output_type": "execute_result"
    }
   ],
   "source": [
    "df = df.dropna() #remove this nan\n",
    "df.isnull().sum()"
   ]
  },
  {
   "cell_type": "code",
   "execution_count": 10,
   "metadata": {
    "scrolled": true
   },
   "outputs": [
    {
     "data": {
      "text/html": [
       "<div>\n",
       "<style scoped>\n",
       "    .dataframe tbody tr th:only-of-type {\n",
       "        vertical-align: middle;\n",
       "    }\n",
       "\n",
       "    .dataframe tbody tr th {\n",
       "        vertical-align: top;\n",
       "    }\n",
       "\n",
       "    .dataframe thead th {\n",
       "        text-align: right;\n",
       "    }\n",
       "</style>\n",
       "<table border=\"1\" class=\"dataframe\">\n",
       "  <thead>\n",
       "    <tr style=\"text-align: right;\">\n",
       "      <th></th>\n",
       "      <th>ID</th>\n",
       "      <th>time</th>\n",
       "      <th>country</th>\n",
       "      <th>state</th>\n",
       "      <th>lon</th>\n",
       "      <th>lat</th>\n",
       "      <th>partecipanti</th>\n",
       "    </tr>\n",
       "  </thead>\n",
       "  <tbody>\n",
       "    <tr>\n",
       "      <th>280908</th>\n",
       "      <td>tnndrqyzgbcb</td>\n",
       "      <td>1554130800000</td>\n",
       "      <td>fr</td>\n",
       "      <td>fr</td>\n",
       "      <td>2.34</td>\n",
       "      <td>48.86</td>\n",
       "      <td>1</td>\n",
       "    </tr>\n",
       "    <tr>\n",
       "      <th>280909</th>\n",
       "      <td>259323127</td>\n",
       "      <td>1554130800000</td>\n",
       "      <td>il</td>\n",
       "      <td>il</td>\n",
       "      <td>34.77</td>\n",
       "      <td>32.07</td>\n",
       "      <td>2</td>\n",
       "    </tr>\n",
       "    <tr>\n",
       "      <th>280910</th>\n",
       "      <td>260175682</td>\n",
       "      <td>1554130800000</td>\n",
       "      <td>us</td>\n",
       "      <td>fl</td>\n",
       "      <td>-82.61</td>\n",
       "      <td>28.14</td>\n",
       "      <td>1</td>\n",
       "    </tr>\n",
       "    <tr>\n",
       "      <th>280911</th>\n",
       "      <td>260102972</td>\n",
       "      <td>1554130800000</td>\n",
       "      <td>us</td>\n",
       "      <td>az</td>\n",
       "      <td>-111.07</td>\n",
       "      <td>32.09</td>\n",
       "      <td>1</td>\n",
       "    </tr>\n",
       "    <tr>\n",
       "      <th>280912</th>\n",
       "      <td>dlqzpqyzgbcb</td>\n",
       "      <td>1554129000000</td>\n",
       "      <td>us</td>\n",
       "      <td>co</td>\n",
       "      <td>-105.08</td>\n",
       "      <td>39.70</td>\n",
       "      <td>1</td>\n",
       "    </tr>\n",
       "  </tbody>\n",
       "</table>\n",
       "</div>"
      ],
      "text/plain": [
       "                  ID           time country state     lon    lat  partecipanti\n",
       "280908  tnndrqyzgbcb  1554130800000      fr    fr    2.34  48.86             1\n",
       "280909     259323127  1554130800000      il    il   34.77  32.07             2\n",
       "280910     260175682  1554130800000      us    fl  -82.61  28.14             1\n",
       "280911     260102972  1554130800000      us    az -111.07  32.09             1\n",
       "280912  dlqzpqyzgbcb  1554129000000      us    co -105.08  39.70             1"
      ]
     },
     "execution_count": 10,
     "metadata": {},
     "output_type": "execute_result"
    }
   ],
   "source": [
    "df.tail() #df clean"
   ]
  },
  {
   "cell_type": "code",
   "execution_count": 11,
   "metadata": {
    "scrolled": true
   },
   "outputs": [
    {
     "data": {
      "text/plain": [
       "ID               object\n",
       "time              int64\n",
       "country          object\n",
       "state            object\n",
       "lon             float64\n",
       "lat             float64\n",
       "partecipanti      int64\n",
       "dtype: object"
      ]
     },
     "execution_count": 11,
     "metadata": {},
     "output_type": "execute_result"
    }
   ],
   "source": [
    "df['lon'] = df['lon'].astype(float) #convert coordinates into float for problem into cell below (timezonefinder)\n",
    "df['lat'] = df['lat'].astype(float)\n",
    "df.dtypes"
   ]
  },
  {
   "cell_type": "code",
   "execution_count": 12,
   "metadata": {},
   "outputs": [],
   "source": [
    "df = df[[c for c in df if c not in ['lat','lon']] + ['lat','lon']] #change order of column for best position of lat and lng"
   ]
  },
  {
   "cell_type": "code",
   "execution_count": 13,
   "metadata": {},
   "outputs": [],
   "source": [
    "df = df.reset_index(drop=True) #reset index for resolve eroor of out-bounded"
   ]
  },
  {
   "cell_type": "code",
   "execution_count": 14,
   "metadata": {},
   "outputs": [
    {
     "name": "stdout",
     "output_type": "stream",
     "text": [
      "task completed in 2.6654537002245586 minutes\n"
     ]
    }
   ],
   "source": [
    "tf = timezonefinder.TimezoneFinder() #defining time zones on lat, long data\n",
    "df['timezone_str'] = \"nan\"\n",
    "count = 0\n",
    "start = time.time()\n",
    "for line in df.itertuples():\n",
    "    count+=1\n",
    "    try:\n",
    "        df.timezone_str.at[line.Index] = tf.timezone_at(lat = df.iloc[line.Index]['lat'],\n",
    "                                                          lng = df.iloc[line.Index]['lon'])\n",
    "    except Exception as e:\n",
    "        print(e)\n",
    "        break\n",
    "    #if count == 10:\n",
    "        #break\n",
    "end = time.time()\n",
    "print(\"task completed in \"+str((end-start)/60)+\" minutes\")"
   ]
  },
  {
   "cell_type": "code",
   "execution_count": 15,
   "metadata": {
    "scrolled": false
   },
   "outputs": [
    {
     "data": {
      "text/html": [
       "<div>\n",
       "<style scoped>\n",
       "    .dataframe tbody tr th:only-of-type {\n",
       "        vertical-align: middle;\n",
       "    }\n",
       "\n",
       "    .dataframe tbody tr th {\n",
       "        vertical-align: top;\n",
       "    }\n",
       "\n",
       "    .dataframe thead th {\n",
       "        text-align: right;\n",
       "    }\n",
       "</style>\n",
       "<table border=\"1\" class=\"dataframe\">\n",
       "  <thead>\n",
       "    <tr style=\"text-align: right;\">\n",
       "      <th></th>\n",
       "      <th>ID</th>\n",
       "      <th>time</th>\n",
       "      <th>country</th>\n",
       "      <th>state</th>\n",
       "      <th>partecipanti</th>\n",
       "      <th>lat</th>\n",
       "      <th>lon</th>\n",
       "      <th>timezone_str</th>\n",
       "    </tr>\n",
       "  </thead>\n",
       "  <tbody>\n",
       "    <tr>\n",
       "      <th>555</th>\n",
       "      <td>ljjfrpybcdblb</td>\n",
       "      <td>1581170400000</td>\n",
       "      <td>us</td>\n",
       "      <td>ga</td>\n",
       "      <td>1</td>\n",
       "      <td>33.94</td>\n",
       "      <td>-83.96</td>\n",
       "      <td>America/New_York</td>\n",
       "    </tr>\n",
       "    <tr>\n",
       "      <th>556</th>\n",
       "      <td>njrfgpybcdblb</td>\n",
       "      <td>1581166800000</td>\n",
       "      <td>us</td>\n",
       "      <td>ga</td>\n",
       "      <td>1</td>\n",
       "      <td>33.94</td>\n",
       "      <td>-83.96</td>\n",
       "      <td>America/New_York</td>\n",
       "    </tr>\n",
       "    <tr>\n",
       "      <th>557</th>\n",
       "      <td>jktqnpybcdbkb</td>\n",
       "      <td>1581062400000</td>\n",
       "      <td>au</td>\n",
       "      <td>au</td>\n",
       "      <td>1</td>\n",
       "      <td>-27.46</td>\n",
       "      <td>153.02</td>\n",
       "      <td>Australia/Brisbane</td>\n",
       "    </tr>\n",
       "    <tr>\n",
       "      <th>558</th>\n",
       "      <td>260411081</td>\n",
       "      <td>1581044400000</td>\n",
       "      <td>us</td>\n",
       "      <td>ca</td>\n",
       "      <td>2</td>\n",
       "      <td>38.58</td>\n",
       "      <td>-121.51</td>\n",
       "      <td>America/Los_Angeles</td>\n",
       "    </tr>\n",
       "    <tr>\n",
       "      <th>559</th>\n",
       "      <td>260468041</td>\n",
       "      <td>1581039000000</td>\n",
       "      <td>us</td>\n",
       "      <td>co</td>\n",
       "      <td>1</td>\n",
       "      <td>39.70</td>\n",
       "      <td>-105.08</td>\n",
       "      <td>America/Denver</td>\n",
       "    </tr>\n",
       "    <tr>\n",
       "      <th>560</th>\n",
       "      <td>260432130</td>\n",
       "      <td>1580995800000</td>\n",
       "      <td>gb</td>\n",
       "      <td>gb</td>\n",
       "      <td>7</td>\n",
       "      <td>53.81</td>\n",
       "      <td>-1.55</td>\n",
       "      <td>Europe/London</td>\n",
       "    </tr>\n",
       "    <tr>\n",
       "      <th>561</th>\n",
       "      <td>xbcxkmybcdbjb</td>\n",
       "      <td>1580992200000</td>\n",
       "      <td>us</td>\n",
       "      <td>fl</td>\n",
       "      <td>2</td>\n",
       "      <td>28.66</td>\n",
       "      <td>-81.37</td>\n",
       "      <td>America/New_York</td>\n",
       "    </tr>\n",
       "    <tr>\n",
       "      <th>562</th>\n",
       "      <td>hwnrdpybcdbhb</td>\n",
       "      <td>1580956200000</td>\n",
       "      <td>us</td>\n",
       "      <td>ca</td>\n",
       "      <td>1</td>\n",
       "      <td>37.07</td>\n",
       "      <td>-122.01</td>\n",
       "      <td>America/Los_Angeles</td>\n",
       "    </tr>\n",
       "    <tr>\n",
       "      <th>563</th>\n",
       "      <td>260478071</td>\n",
       "      <td>1580948100000</td>\n",
       "      <td>us</td>\n",
       "      <td>nc</td>\n",
       "      <td>3</td>\n",
       "      <td>35.77</td>\n",
       "      <td>-78.64</td>\n",
       "      <td>America/New_York</td>\n",
       "    </tr>\n",
       "    <tr>\n",
       "      <th>564</th>\n",
       "      <td>cmwcmqybcdbhb</td>\n",
       "      <td>1580933700000</td>\n",
       "      <td>gb</td>\n",
       "      <td>gb</td>\n",
       "      <td>1</td>\n",
       "      <td>55.94</td>\n",
       "      <td>-3.22</td>\n",
       "      <td>Europe/London</td>\n",
       "    </tr>\n",
       "  </tbody>\n",
       "</table>\n",
       "</div>"
      ],
      "text/plain": [
       "                ID           time country state  partecipanti    lat     lon  \\\n",
       "555  ljjfrpybcdblb  1581170400000      us    ga             1  33.94  -83.96   \n",
       "556  njrfgpybcdblb  1581166800000      us    ga             1  33.94  -83.96   \n",
       "557  jktqnpybcdbkb  1581062400000      au    au             1 -27.46  153.02   \n",
       "558      260411081  1581044400000      us    ca             2  38.58 -121.51   \n",
       "559      260468041  1581039000000      us    co             1  39.70 -105.08   \n",
       "560      260432130  1580995800000      gb    gb             7  53.81   -1.55   \n",
       "561  xbcxkmybcdbjb  1580992200000      us    fl             2  28.66  -81.37   \n",
       "562  hwnrdpybcdbhb  1580956200000      us    ca             1  37.07 -122.01   \n",
       "563      260478071  1580948100000      us    nc             3  35.77  -78.64   \n",
       "564  cmwcmqybcdbhb  1580933700000      gb    gb             1  55.94   -3.22   \n",
       "\n",
       "            timezone_str  \n",
       "555     America/New_York  \n",
       "556     America/New_York  \n",
       "557   Australia/Brisbane  \n",
       "558  America/Los_Angeles  \n",
       "559       America/Denver  \n",
       "560        Europe/London  \n",
       "561     America/New_York  \n",
       "562  America/Los_Angeles  \n",
       "563     America/New_York  \n",
       "564        Europe/London  "
      ]
     },
     "execution_count": 15,
     "metadata": {},
     "output_type": "execute_result"
    }
   ],
   "source": [
    "df[555:565] #check"
   ]
  },
  {
   "cell_type": "code",
   "execution_count": 16,
   "metadata": {},
   "outputs": [
    {
     "data": {
      "text/plain": [
       "ID               object\n",
       "time              int64\n",
       "country          object\n",
       "state            object\n",
       "partecipanti      int64\n",
       "lat             float64\n",
       "lon             float64\n",
       "timezone_str     object\n",
       "dtype: object"
      ]
     },
     "execution_count": 16,
     "metadata": {},
     "output_type": "execute_result"
    }
   ],
   "source": [
    "df.dtypes"
   ]
  },
  {
   "cell_type": "code",
   "execution_count": 22,
   "metadata": {},
   "outputs": [],
   "source": [
    "#this step is dated (only for convert apoc in neo)\n",
    "#df['time'] = pd.to_datetime(df['time']) #convert time (object) into datettime type (needed fro convert after into timestamp)"
   ]
  },
  {
   "cell_type": "code",
   "execution_count": 23,
   "metadata": {},
   "outputs": [
    {
     "data": {
      "text/plain": [
       "\"df['timestamp'] = df.fillna(value=pd.np.nan, inplace=True) #fill with nan value\\nstart = time.time()\\ncount = 0\\nfor line in df.itertuples():\\n    count+=1\\n    try:\\n        df['timestamp'].at[line.Index] = dt.timestamp(df.iloc[line.Index]['time'])\\n    except Exception as e:\\n        print(e)\\n        break\\n    #if count == 100:\\n        #break\\nend = time.time()\\nprint('task completed in '+str((end-start)/60)+' minutes')\""
      ]
     },
     "execution_count": 23,
     "metadata": {},
     "output_type": "execute_result"
    }
   ],
   "source": [
    "##this step is dated (only for convert apoc in neo)\n",
    "'''df['timestamp'] = df.fillna(value=pd.np.nan, inplace=True) #fill with nan value\n",
    "start = time.time()\n",
    "count = 0\n",
    "for line in df.itertuples():\n",
    "    count+=1\n",
    "    try:\n",
    "        df['timestamp'].at[line.Index] = dt.timestamp(df.iloc[line.Index]['time'])\n",
    "    except Exception as e:\n",
    "        print(e)\n",
    "        break\n",
    "    #if count == 100:\n",
    "        #break\n",
    "end = time.time()\n",
    "print('task completed in '+str((end-start)/60)+' minutes')'''"
   ]
  },
  {
   "cell_type": "code",
   "execution_count": 17,
   "metadata": {
    "scrolled": true
   },
   "outputs": [
    {
     "data": {
      "text/html": [
       "<div>\n",
       "<style scoped>\n",
       "    .dataframe tbody tr th:only-of-type {\n",
       "        vertical-align: middle;\n",
       "    }\n",
       "\n",
       "    .dataframe tbody tr th {\n",
       "        vertical-align: top;\n",
       "    }\n",
       "\n",
       "    .dataframe thead th {\n",
       "        text-align: right;\n",
       "    }\n",
       "</style>\n",
       "<table border=\"1\" class=\"dataframe\">\n",
       "  <thead>\n",
       "    <tr style=\"text-align: right;\">\n",
       "      <th></th>\n",
       "      <th>ID</th>\n",
       "      <th>time</th>\n",
       "      <th>country</th>\n",
       "      <th>state</th>\n",
       "      <th>partecipanti</th>\n",
       "      <th>lat</th>\n",
       "      <th>lon</th>\n",
       "      <th>timezone_str</th>\n",
       "    </tr>\n",
       "  </thead>\n",
       "  <tbody>\n",
       "    <tr>\n",
       "      <th>0</th>\n",
       "      <td>260269871</td>\n",
       "      <td>5317552800000</td>\n",
       "      <td>us</td>\n",
       "      <td>ca</td>\n",
       "      <td>1</td>\n",
       "      <td>33.87</td>\n",
       "      <td>-118.33</td>\n",
       "      <td>America/Los_Angeles</td>\n",
       "    </tr>\n",
       "    <tr>\n",
       "      <th>1</th>\n",
       "      <td>260260779</td>\n",
       "      <td>3384554400000</td>\n",
       "      <td>us</td>\n",
       "      <td>wa</td>\n",
       "      <td>2</td>\n",
       "      <td>47.67</td>\n",
       "      <td>-117.43</td>\n",
       "      <td>America/Los_Angeles</td>\n",
       "    </tr>\n",
       "    <tr>\n",
       "      <th>2</th>\n",
       "      <td>ztbltqyxcdbbc</td>\n",
       "      <td>2150290800000</td>\n",
       "      <td>us</td>\n",
       "      <td>tn</td>\n",
       "      <td>1</td>\n",
       "      <td>36.08</td>\n",
       "      <td>-86.72</td>\n",
       "      <td>America/Chicago</td>\n",
       "    </tr>\n",
       "    <tr>\n",
       "      <th>3</th>\n",
       "      <td>260361735</td>\n",
       "      <td>1924992000000</td>\n",
       "      <td>sg</td>\n",
       "      <td>sg</td>\n",
       "      <td>1</td>\n",
       "      <td>1.30</td>\n",
       "      <td>103.85</td>\n",
       "      <td>Asia/Singapore</td>\n",
       "    </tr>\n",
       "    <tr>\n",
       "      <th>4</th>\n",
       "      <td>260337211</td>\n",
       "      <td>1924992000000</td>\n",
       "      <td>sg</td>\n",
       "      <td>sg</td>\n",
       "      <td>1</td>\n",
       "      <td>1.30</td>\n",
       "      <td>103.85</td>\n",
       "      <td>Asia/Singapore</td>\n",
       "    </tr>\n",
       "    <tr>\n",
       "      <th>5</th>\n",
       "      <td>260361770</td>\n",
       "      <td>1924992000000</td>\n",
       "      <td>sg</td>\n",
       "      <td>sg</td>\n",
       "      <td>1</td>\n",
       "      <td>1.30</td>\n",
       "      <td>103.85</td>\n",
       "      <td>Asia/Singapore</td>\n",
       "    </tr>\n",
       "    <tr>\n",
       "      <th>6</th>\n",
       "      <td>260276424</td>\n",
       "      <td>1924992000000</td>\n",
       "      <td>sg</td>\n",
       "      <td>sg</td>\n",
       "      <td>1</td>\n",
       "      <td>1.30</td>\n",
       "      <td>103.85</td>\n",
       "      <td>Asia/Singapore</td>\n",
       "    </tr>\n",
       "    <tr>\n",
       "      <th>7</th>\n",
       "      <td>260337185</td>\n",
       "      <td>1924992000000</td>\n",
       "      <td>sg</td>\n",
       "      <td>sg</td>\n",
       "      <td>1</td>\n",
       "      <td>1.30</td>\n",
       "      <td>103.85</td>\n",
       "      <td>Asia/Singapore</td>\n",
       "    </tr>\n",
       "    <tr>\n",
       "      <th>8</th>\n",
       "      <td>260361712</td>\n",
       "      <td>1924992000000</td>\n",
       "      <td>sg</td>\n",
       "      <td>sg</td>\n",
       "      <td>1</td>\n",
       "      <td>1.30</td>\n",
       "      <td>103.85</td>\n",
       "      <td>Asia/Singapore</td>\n",
       "    </tr>\n",
       "    <tr>\n",
       "      <th>9</th>\n",
       "      <td>260532116</td>\n",
       "      <td>1924992000000</td>\n",
       "      <td>sg</td>\n",
       "      <td>sg</td>\n",
       "      <td>1</td>\n",
       "      <td>1.30</td>\n",
       "      <td>103.85</td>\n",
       "      <td>Asia/Singapore</td>\n",
       "    </tr>\n",
       "  </tbody>\n",
       "</table>\n",
       "</div>"
      ],
      "text/plain": [
       "              ID           time country state  partecipanti    lat     lon  \\\n",
       "0      260269871  5317552800000      us    ca             1  33.87 -118.33   \n",
       "1      260260779  3384554400000      us    wa             2  47.67 -117.43   \n",
       "2  ztbltqyxcdbbc  2150290800000      us    tn             1  36.08  -86.72   \n",
       "3      260361735  1924992000000      sg    sg             1   1.30  103.85   \n",
       "4      260337211  1924992000000      sg    sg             1   1.30  103.85   \n",
       "5      260361770  1924992000000      sg    sg             1   1.30  103.85   \n",
       "6      260276424  1924992000000      sg    sg             1   1.30  103.85   \n",
       "7      260337185  1924992000000      sg    sg             1   1.30  103.85   \n",
       "8      260361712  1924992000000      sg    sg             1   1.30  103.85   \n",
       "9      260532116  1924992000000      sg    sg             1   1.30  103.85   \n",
       "\n",
       "          timezone_str  \n",
       "0  America/Los_Angeles  \n",
       "1  America/Los_Angeles  \n",
       "2      America/Chicago  \n",
       "3       Asia/Singapore  \n",
       "4       Asia/Singapore  \n",
       "5       Asia/Singapore  \n",
       "6       Asia/Singapore  \n",
       "7       Asia/Singapore  \n",
       "8       Asia/Singapore  \n",
       "9       Asia/Singapore  "
      ]
     },
     "execution_count": 17,
     "metadata": {},
     "output_type": "execute_result"
    }
   ],
   "source": [
    "df.head(10) #check"
   ]
  },
  {
   "cell_type": "code",
   "execution_count": 18,
   "metadata": {},
   "outputs": [],
   "source": [
    "def rounder(t): #this function round the time to nearest hour\n",
    "    if t.minute >= 30:\n",
    "        if t.hour == 23:\n",
    "            return t.replace(second=0, microsecond=0, minute=0, hour=0)\n",
    "        else:\n",
    "            return t.replace(second=0, microsecond=0, minute=0, hour= t.hour+1)\n",
    "    else:\n",
    "        return t.replace(second=0, microsecond=0, minute=0)"
   ]
  },
  {
   "cell_type": "code",
   "execution_count": 19,
   "metadata": {},
   "outputs": [],
   "source": [
    "df['datetime_timezoned'] = df.fillna(value=pd.np.nan, inplace=True) #fill with nan value"
   ]
  },
  {
   "cell_type": "code",
   "execution_count": 20,
   "metadata": {},
   "outputs": [
    {
     "data": {
      "text/plain": [
       "ID                     object\n",
       "time                    int64\n",
       "country                object\n",
       "state                  object\n",
       "partecipanti            int64\n",
       "lat                   float64\n",
       "lon                   float64\n",
       "timezone_str           object\n",
       "datetime_timezoned     object\n",
       "dtype: object"
      ]
     },
     "execution_count": 20,
     "metadata": {},
     "output_type": "execute_result"
    }
   ],
   "source": [
    "df['datetime_timezoned'] = df['datetime_timezoned'].astype(object) #convert for resolve error in the cell above (should not be a number)\n",
    "df.dtypes"
   ]
  },
  {
   "cell_type": "code",
   "execution_count": 21,
   "metadata": {
    "scrolled": true
   },
   "outputs": [
    {
     "name": "stdout",
     "output_type": "stream",
     "text": [
      "task completed in 2.6073269406954447 minutes\n"
     ]
    }
   ],
   "source": [
    "start = time.time()\n",
    "count = 0\n",
    "for line in df.itertuples():\n",
    "    count+=1\n",
    "    try:\n",
    "        df.datetime_timezoned.at[line.Index] = rounder((dt.fromtimestamp\n",
    "                                                   (timestamp = (df.iloc[line.Index]['time'])/1000,\n",
    "                                                    tz = pytz.timezone(df.iloc[line.Index]['timezone_str'])\n",
    "                                                   ))).strftime(\"%d/%m/%Y %H\")\n",
    "    except Exception as e:\n",
    "        print(e)\n",
    "        break\n",
    "    #if count == 100:\n",
    "        #break\n",
    "end = time.time()\n",
    "print('task completed in '+str((end-start)/60)+' minutes')"
   ]
  },
  {
   "cell_type": "code",
   "execution_count": 23,
   "metadata": {},
   "outputs": [
    {
     "data": {
      "text/html": [
       "<div>\n",
       "<style scoped>\n",
       "    .dataframe tbody tr th:only-of-type {\n",
       "        vertical-align: middle;\n",
       "    }\n",
       "\n",
       "    .dataframe tbody tr th {\n",
       "        vertical-align: top;\n",
       "    }\n",
       "\n",
       "    .dataframe thead th {\n",
       "        text-align: right;\n",
       "    }\n",
       "</style>\n",
       "<table border=\"1\" class=\"dataframe\">\n",
       "  <thead>\n",
       "    <tr style=\"text-align: right;\">\n",
       "      <th></th>\n",
       "      <th>ID</th>\n",
       "      <th>country</th>\n",
       "      <th>state</th>\n",
       "      <th>partecipanti</th>\n",
       "      <th>lat</th>\n",
       "      <th>lon</th>\n",
       "      <th>timezone_str</th>\n",
       "      <th>time</th>\n",
       "      <th>datetime_timezoned</th>\n",
       "    </tr>\n",
       "  </thead>\n",
       "  <tbody>\n",
       "    <tr>\n",
       "      <th>280903</th>\n",
       "      <td>260208676</td>\n",
       "      <td>us</td>\n",
       "      <td>nc</td>\n",
       "      <td>1</td>\n",
       "      <td>35.92</td>\n",
       "      <td>-79.12</td>\n",
       "      <td>America/New_York</td>\n",
       "      <td>1554130800000</td>\n",
       "      <td>01/04/2019 11</td>\n",
       "    </tr>\n",
       "    <tr>\n",
       "      <th>280904</th>\n",
       "      <td>260214529</td>\n",
       "      <td>ae</td>\n",
       "      <td>ae</td>\n",
       "      <td>1</td>\n",
       "      <td>25.27</td>\n",
       "      <td>55.33</td>\n",
       "      <td>Asia/Dubai</td>\n",
       "      <td>1554130800000</td>\n",
       "      <td>01/04/2019 19</td>\n",
       "    </tr>\n",
       "    <tr>\n",
       "      <th>280905</th>\n",
       "      <td>259955131</td>\n",
       "      <td>us</td>\n",
       "      <td>il</td>\n",
       "      <td>1</td>\n",
       "      <td>41.81</td>\n",
       "      <td>-88.02</td>\n",
       "      <td>America/Chicago</td>\n",
       "      <td>1554130800000</td>\n",
       "      <td>01/04/2019 10</td>\n",
       "    </tr>\n",
       "    <tr>\n",
       "      <th>280906</th>\n",
       "      <td>260247643</td>\n",
       "      <td>us</td>\n",
       "      <td>ut</td>\n",
       "      <td>1</td>\n",
       "      <td>40.87</td>\n",
       "      <td>-111.89</td>\n",
       "      <td>America/Denver</td>\n",
       "      <td>1554130800000</td>\n",
       "      <td>01/04/2019 09</td>\n",
       "    </tr>\n",
       "    <tr>\n",
       "      <th>280907</th>\n",
       "      <td>260049652</td>\n",
       "      <td>de</td>\n",
       "      <td>de</td>\n",
       "      <td>1</td>\n",
       "      <td>52.52</td>\n",
       "      <td>13.38</td>\n",
       "      <td>Europe/Berlin</td>\n",
       "      <td>1554130800000</td>\n",
       "      <td>01/04/2019 17</td>\n",
       "    </tr>\n",
       "    <tr>\n",
       "      <th>280908</th>\n",
       "      <td>tnndrqyzgbcb</td>\n",
       "      <td>fr</td>\n",
       "      <td>fr</td>\n",
       "      <td>1</td>\n",
       "      <td>48.86</td>\n",
       "      <td>2.34</td>\n",
       "      <td>Europe/Paris</td>\n",
       "      <td>1554130800000</td>\n",
       "      <td>01/04/2019 17</td>\n",
       "    </tr>\n",
       "    <tr>\n",
       "      <th>280909</th>\n",
       "      <td>259323127</td>\n",
       "      <td>il</td>\n",
       "      <td>il</td>\n",
       "      <td>2</td>\n",
       "      <td>32.07</td>\n",
       "      <td>34.77</td>\n",
       "      <td>Asia/Jerusalem</td>\n",
       "      <td>1554130800000</td>\n",
       "      <td>01/04/2019 18</td>\n",
       "    </tr>\n",
       "    <tr>\n",
       "      <th>280910</th>\n",
       "      <td>260175682</td>\n",
       "      <td>us</td>\n",
       "      <td>fl</td>\n",
       "      <td>1</td>\n",
       "      <td>28.14</td>\n",
       "      <td>-82.61</td>\n",
       "      <td>America/New_York</td>\n",
       "      <td>1554130800000</td>\n",
       "      <td>01/04/2019 11</td>\n",
       "    </tr>\n",
       "    <tr>\n",
       "      <th>280911</th>\n",
       "      <td>260102972</td>\n",
       "      <td>us</td>\n",
       "      <td>az</td>\n",
       "      <td>1</td>\n",
       "      <td>32.09</td>\n",
       "      <td>-111.07</td>\n",
       "      <td>America/Phoenix</td>\n",
       "      <td>1554130800000</td>\n",
       "      <td>01/04/2019 08</td>\n",
       "    </tr>\n",
       "    <tr>\n",
       "      <th>280912</th>\n",
       "      <td>dlqzpqyzgbcb</td>\n",
       "      <td>us</td>\n",
       "      <td>co</td>\n",
       "      <td>1</td>\n",
       "      <td>39.70</td>\n",
       "      <td>-105.08</td>\n",
       "      <td>America/Denver</td>\n",
       "      <td>1554129000000</td>\n",
       "      <td>01/04/2019 09</td>\n",
       "    </tr>\n",
       "  </tbody>\n",
       "</table>\n",
       "</div>"
      ],
      "text/plain": [
       "                  ID country state  partecipanti    lat     lon  \\\n",
       "280903     260208676      us    nc             1  35.92  -79.12   \n",
       "280904     260214529      ae    ae             1  25.27   55.33   \n",
       "280905     259955131      us    il             1  41.81  -88.02   \n",
       "280906     260247643      us    ut             1  40.87 -111.89   \n",
       "280907     260049652      de    de             1  52.52   13.38   \n",
       "280908  tnndrqyzgbcb      fr    fr             1  48.86    2.34   \n",
       "280909     259323127      il    il             2  32.07   34.77   \n",
       "280910     260175682      us    fl             1  28.14  -82.61   \n",
       "280911     260102972      us    az             1  32.09 -111.07   \n",
       "280912  dlqzpqyzgbcb      us    co             1  39.70 -105.08   \n",
       "\n",
       "            timezone_str           time datetime_timezoned  \n",
       "280903  America/New_York  1554130800000      01/04/2019 11  \n",
       "280904        Asia/Dubai  1554130800000      01/04/2019 19  \n",
       "280905   America/Chicago  1554130800000      01/04/2019 10  \n",
       "280906    America/Denver  1554130800000      01/04/2019 09  \n",
       "280907     Europe/Berlin  1554130800000      01/04/2019 17  \n",
       "280908      Europe/Paris  1554130800000      01/04/2019 17  \n",
       "280909    Asia/Jerusalem  1554130800000      01/04/2019 18  \n",
       "280910  America/New_York  1554130800000      01/04/2019 11  \n",
       "280911   America/Phoenix  1554130800000      01/04/2019 08  \n",
       "280912    America/Denver  1554129000000      01/04/2019 09  "
      ]
     },
     "execution_count": 23,
     "metadata": {},
     "output_type": "execute_result"
    }
   ],
   "source": [
    "df = df[[c for c in df if c not in ['timezone_str','time','datetime_timezoned']] + ['timezone_str','time','datetime_timezoned']]\n",
    "df.tail(10) #re-order column"
   ]
  },
  {
   "cell_type": "code",
   "execution_count": 29,
   "metadata": {
    "scrolled": true
   },
   "outputs": [
    {
     "data": {
      "text/html": [
       "<div>\n",
       "<style scoped>\n",
       "    .dataframe tbody tr th:only-of-type {\n",
       "        vertical-align: middle;\n",
       "    }\n",
       "\n",
       "    .dataframe tbody tr th {\n",
       "        vertical-align: top;\n",
       "    }\n",
       "\n",
       "    .dataframe thead th {\n",
       "        text-align: right;\n",
       "    }\n",
       "</style>\n",
       "<table border=\"1\" class=\"dataframe\">\n",
       "  <thead>\n",
       "    <tr style=\"text-align: right;\">\n",
       "      <th></th>\n",
       "      <th>name</th>\n",
       "      <th>country</th>\n",
       "      <th>state</th>\n",
       "      <th>lat</th>\n",
       "      <th>lon</th>\n",
       "      <th>timezone_str</th>\n",
       "      <th>time</th>\n",
       "      <th>datetime_timezoned</th>\n",
       "    </tr>\n",
       "  </thead>\n",
       "  <tbody>\n",
       "    <tr>\n",
       "      <th>0</th>\n",
       "      <td>\bLunch meetup at Shanghai Slims 13th April Sat...</td>\n",
       "      <td>cn</td>\n",
       "      <td>cn</td>\n",
       "      <td>31.23</td>\n",
       "      <td>121.47</td>\n",
       "      <td>Asia/Shanghai</td>\n",
       "      <td>1.555128e+12</td>\n",
       "      <td>13/04/2019 12:00:00</td>\n",
       "    </tr>\n",
       "    <tr>\n",
       "      <th>1</th>\n",
       "      <td>\\t Meetup Salud M\\u00f3vil, IA Salud - Observa...</td>\n",
       "      <td>co</td>\n",
       "      <td>co</td>\n",
       "      <td>6.25</td>\n",
       "      <td>-75.59</td>\n",
       "      <td>America/Bogota</td>\n",
       "      <td>1.554413e+12</td>\n",
       "      <td>04/04/2019 17:00:00</td>\n",
       "    </tr>\n",
       "    <tr>\n",
       "      <th>2</th>\n",
       "      <td>\\t Rob Thomas: Chip Tooth Tour</td>\n",
       "      <td>us</td>\n",
       "      <td>co</td>\n",
       "      <td>39.70</td>\n",
       "      <td>-105.08</td>\n",
       "      <td>America/Denver</td>\n",
       "      <td>1.560213e+12</td>\n",
       "      <td>10/06/2019 19:00:00</td>\n",
       "    </tr>\n",
       "    <tr>\n",
       "      <th>3</th>\n",
       "      <td>\\tHayden Island</td>\n",
       "      <td>us</td>\n",
       "      <td>or</td>\n",
       "      <td>45.44</td>\n",
       "      <td>-122.77</td>\n",
       "      <td>America/Los_Angeles</td>\n",
       "      <td>1.554568e+12</td>\n",
       "      <td>06/04/2019 10:00:00</td>\n",
       "    </tr>\n",
       "    <tr>\n",
       "      <th>4</th>\n",
       "      <td>\\tNorth - University of Portland</td>\n",
       "      <td>us</td>\n",
       "      <td>or</td>\n",
       "      <td>45.44</td>\n",
       "      <td>-122.77</td>\n",
       "      <td>America/Los_Angeles</td>\n",
       "      <td>1.555173e+12</td>\n",
       "      <td>13/04/2019 10:00:00</td>\n",
       "    </tr>\n",
       "    <tr>\n",
       "      <th>5</th>\n",
       "      <td>\\tPhunsukh Wangdu Isolated Camping</td>\n",
       "      <td>in</td>\n",
       "      <td>in</td>\n",
       "      <td>12.97</td>\n",
       "      <td>77.56</td>\n",
       "      <td>Asia/Kolkata</td>\n",
       "      <td>1.554532e+12</td>\n",
       "      <td>06/04/2019 12:00:00</td>\n",
       "    </tr>\n",
       "    <tr>\n",
       "      <th>6</th>\n",
       "      <td>\\tSevern Shires Way part 4, Farnborough to Mid...</td>\n",
       "      <td>gb</td>\n",
       "      <td>gb</td>\n",
       "      <td>51.76</td>\n",
       "      <td>-1.26</td>\n",
       "      <td>Europe/London</td>\n",
       "      <td>1.554628e+12</td>\n",
       "      <td>07/04/2019 10:00:00</td>\n",
       "    </tr>\n",
       "    <tr>\n",
       "      <th>7</th>\n",
       "      <td>\\tSpeak EZ Toastemasters</td>\n",
       "      <td>us</td>\n",
       "      <td>tx</td>\n",
       "      <td>32.96</td>\n",
       "      <td>-96.75</td>\n",
       "      <td>America/Chicago</td>\n",
       "      <td>1.555024e+12</td>\n",
       "      <td>11/04/2019 18:00:00</td>\n",
       "    </tr>\n",
       "    <tr>\n",
       "      <th>8</th>\n",
       "      <td>\\tSpeak EZ Toastemasters</td>\n",
       "      <td>us</td>\n",
       "      <td>tx</td>\n",
       "      <td>32.96</td>\n",
       "      <td>-96.75</td>\n",
       "      <td>America/Chicago</td>\n",
       "      <td>1.554419e+12</td>\n",
       "      <td>04/04/2019 18:00:00</td>\n",
       "    </tr>\n",
       "    <tr>\n",
       "      <th>9</th>\n",
       "      <td>\\tWine and Paint Party - Unicorn Painting</td>\n",
       "      <td>nz</td>\n",
       "      <td>nz</td>\n",
       "      <td>-36.85</td>\n",
       "      <td>174.76</td>\n",
       "      <td>Pacific/Auckland</td>\n",
       "      <td>1.555206e+12</td>\n",
       "      <td>14/04/2019 14:00:00</td>\n",
       "    </tr>\n",
       "  </tbody>\n",
       "</table>\n",
       "</div>"
      ],
      "text/plain": [
       "                                                name country state    lat  \\\n",
       "0  \bLunch meetup at Shanghai Slims 13th April Sat...      cn    cn  31.23   \n",
       "1  \\t Meetup Salud M\\u00f3vil, IA Salud - Observa...      co    co   6.25   \n",
       "2                     \\t Rob Thomas: Chip Tooth Tour      us    co  39.70   \n",
       "3                                    \\tHayden Island      us    or  45.44   \n",
       "4                   \\tNorth - University of Portland      us    or  45.44   \n",
       "5                 \\tPhunsukh Wangdu Isolated Camping      in    in  12.97   \n",
       "6  \\tSevern Shires Way part 4, Farnborough to Mid...      gb    gb  51.76   \n",
       "7                           \\tSpeak EZ Toastemasters      us    tx  32.96   \n",
       "8                           \\tSpeak EZ Toastemasters      us    tx  32.96   \n",
       "9          \\tWine and Paint Party - Unicorn Painting      nz    nz -36.85   \n",
       "\n",
       "      lon         timezone_str          time   datetime_timezoned  \n",
       "0  121.47        Asia/Shanghai  1.555128e+12  13/04/2019 12:00:00  \n",
       "1  -75.59       America/Bogota  1.554413e+12  04/04/2019 17:00:00  \n",
       "2 -105.08       America/Denver  1.560213e+12  10/06/2019 19:00:00  \n",
       "3 -122.77  America/Los_Angeles  1.554568e+12  06/04/2019 10:00:00  \n",
       "4 -122.77  America/Los_Angeles  1.555173e+12  13/04/2019 10:00:00  \n",
       "5   77.56         Asia/Kolkata  1.554532e+12  06/04/2019 12:00:00  \n",
       "6   -1.26        Europe/London  1.554628e+12  07/04/2019 10:00:00  \n",
       "7  -96.75      America/Chicago  1.555024e+12  11/04/2019 18:00:00  \n",
       "8  -96.75      America/Chicago  1.554419e+12  04/04/2019 18:00:00  \n",
       "9  174.76     Pacific/Auckland  1.555206e+12  14/04/2019 14:00:00  "
      ]
     },
     "execution_count": 29,
     "metadata": {},
     "output_type": "execute_result"
    }
   ],
   "source": [
    "#df = df[[c for c in df if c not in ['timezone_str','time','datetime_timezoned']] + ['timezone_str','time','datetime_timezoned']]\n",
    "#df.head(10) #re-order column"
   ]
  },
  {
   "cell_type": "code",
   "execution_count": 24,
   "metadata": {},
   "outputs": [],
   "source": [
    "df.to_csv('../csv/exported_queries/Distribuzione_temporale_eventi_fix_with_members_replica.csv') #csv"
   ]
  },
  {
   "cell_type": "code",
   "execution_count": 31,
   "metadata": {},
   "outputs": [
    {
     "name": "stdout",
     "output_type": "stream",
     "text": [
      "script completed in 3.812490542729696 minutes\n"
     ]
    }
   ],
   "source": [
    "end_fin = time.time()\n",
    "print(\"script completed in \"+str((end_fin-start_ini)/60)+\" minutes\")"
   ]
  }
 ],
 "metadata": {
  "kernelspec": {
   "display_name": "Python 3",
   "language": "python",
   "name": "python3"
  },
  "language_info": {
   "codemirror_mode": {
    "name": "ipython",
    "version": 3
   },
   "file_extension": ".py",
   "mimetype": "text/x-python",
   "name": "python",
   "nbconvert_exporter": "python",
   "pygments_lexer": "ipython3",
   "version": "3.6.4"
  }
 },
 "nbformat": 4,
 "nbformat_minor": 2
}
