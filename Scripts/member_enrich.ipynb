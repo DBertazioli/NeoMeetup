{
 "cells": [
  {
   "cell_type": "code",
   "execution_count": 5,
   "metadata": {},
   "outputs": [],
   "source": [
    "#!/usr/bin/env python\n",
    "\n",
    "# coding: utf-8\n",
    "from __future__ import unicode_literals\n",
    "import sys\n",
    "import requests\n",
    "import json\n",
    "import time\n",
    "import codecs\n",
    "import sys\n",
    "\n",
    "import pandas as pd\n",
    "import numpy as np"
   ]
  },
  {
   "cell_type": "code",
   "execution_count": 6,
   "metadata": {},
   "outputs": [
    {
     "ename": "ImportError",
     "evalue": "cannot import name 'izip'",
     "output_type": "error",
     "traceback": [
      "\u001b[0;31m---------------------------------------------------------------------------\u001b[0m",
      "\u001b[0;31mImportError\u001b[0m                               Traceback (most recent call last)",
      "\u001b[0;32m<ipython-input-6-326e2567f8a7>\u001b[0m in \u001b[0;36m<module>\u001b[0;34m\u001b[0m\n\u001b[1;32m      3\u001b[0m \u001b[0;34m\u001b[0m\u001b[0m\n\u001b[1;32m      4\u001b[0m \u001b[0;34m\u001b[0m\u001b[0m\n\u001b[0;32m----> 5\u001b[0;31m \u001b[0;32mfrom\u001b[0m \u001b[0mitertools\u001b[0m \u001b[0;32mimport\u001b[0m \u001b[0mizip\u001b[0m\u001b[0;34m\u001b[0m\u001b[0;34m\u001b[0m\u001b[0m\n\u001b[0m\u001b[1;32m      6\u001b[0m \u001b[0;32mfrom\u001b[0m \u001b[0mitertools\u001b[0m \u001b[0;32mimport\u001b[0m \u001b[0mizip_longest\u001b[0m\u001b[0;34m\u001b[0m\u001b[0;34m\u001b[0m\u001b[0m\n",
      "\u001b[0;31mImportError\u001b[0m: cannot import name 'izip'"
     ]
    }
   ],
   "source": [
    "UTF8Writer = codecs.getwriter('utf8')\n",
    "sys.stdout = UTF8Writer(sys.stdout)\n",
    "\n",
    "\n",
    "from itertools import izip\n",
    "from itertools import izip_longest"
   ]
  },
  {
   "cell_type": "code",
   "execution_count": 3,
   "metadata": {},
   "outputs": [
    {
     "name": "stdout",
     "output_type": "stream",
     "text": [
      "   member_id       member_name\n",
      "0  263302780  Collins Nkimbeng\n",
      "1  264241156         Sarah Ann\n",
      "2   11534341            Kevin \n",
      "3          6   Scott Heiferman\n",
      "4  270532609     Tynaia Taylor\n"
     ]
    }
   ],
   "source": [
    "member_df=pd.read_csv(\"../Csv/Struttura/member.csv\")\n",
    "print (member_df.head())\n",
    "\n",
    "member_ids=member_df['member_id']\n",
    "member_df['topics']=\"nan\"\n",
    "#print member_df.head()\n",
    "\n",
    "fabri_key=\"2e12625a12642d6ac743d19566c393e\"\n",
    "max_key=\"445811b5a6b424f7e79342826176d\"\n",
    "my_api_key= \"546938372953301546964e404246e\"\n",
    "        \n",
    "block_alert={u'problem': u'Client throttled', u'code': u'throttled', u'details': u'Credentials have been throttled'}"
   ]
  },
  {
   "cell_type": "code",
   "execution_count": null,
   "metadata": {},
   "outputs": [],
   "source": [
    "#iterating tuples at once\n",
    "#old pairs version (to keep in case)\n",
    "def pairwise(iterable):\n",
    "    \"s -> (s0, s1), (s2, s3), (s4, s5), ...\"\n",
    "    a = iter(iterable)\n",
    "    return izip(a, a)\n",
    "\n",
    "#more complete groupin version\n",
    "def grouper(iterable, n, fillvalue=None):\n",
    "    \"Collect data into fixed-length chunks or blocks\"\n",
    "    # grouper('ABCDEFG', 3, 'x') --> ABC DEF Gxx\n",
    "    args = [iter(iterable)] * n\n",
    "    return izip_longest(fillvalue=fillvalue, *args)"
   ]
  },
  {
   "cell_type": "code",
   "execution_count": null,
   "metadata": {},
   "outputs": [],
   "source": [
    "def main():\n",
    "        # Get your key here https://secure.meetup.com/meetup_api/key/\n",
    "        #count=0\n",
    "        #for line in member_df.itertuples(): #basic\n",
    "        #for x, y in pairwise(member_df.itertuples()): #pairs\n",
    "\t\tprint (\"requesting http://api.meetup.com/2/members\")        \n",
    "\t\tfor z in grouper(member_df.itertuples(),3): #groups\n",
    "            \n",
    "        \t#request parameters\t\n",
    "            per_page = 1\n",
    "            #results_we_got = per_page #more pages output\n",
    "            offset = 0            \n",
    "       \n",
    "\t\t\t#get id\n",
    "\t\t\t   \n",
    "\t    \tid_0=member_df.iloc[z[0].Index]['member_id']\n",
    "            id_1=member_df.iloc[z[1].Index]['member_id']\n",
    "            id_2=member_df.iloc[z[2].Index]['member_id']\n",
    "\t\t\t\n",
    "\n",
    "            # Meetup.com documentation here: http://www.meetup.com/meetup_api/docs/2/groups/\n",
    "            response0=get_results({\"member_id\":id_0, \"key\":max_key, \"page\":per_page, \"offset\":offset})\n",
    "            response1=get_results({\"member_id\":id_1, \"key\":my_api_key, \"page\":per_page, \"offset\":offset})\n",
    "            response2=get_results({\"member_id\":id_2, \"key\":fabri_key, \"page\":per_page, \"offset\":offset})\n",
    "\t\t\t\n",
    "            time.sleep(0.17) #PLS U NO BAN me\n",
    "            offset += 1\n",
    "            #results_we_got = response['meta']['count']              \n",
    "            #time.sleep(1)\n",
    "            #count+=1\n",
    "           \n",
    "            data0=response0['results']\n",
    "            data1=response1['results']\n",
    "            data2=response2['results']\n",
    "            \n",
    "            for elem in data0:\n",
    "                if elem['topics']:\n",
    "                    #print elem['topics']\n",
    "                    member_df['topics'].at[z[0].Index]=elem['topics']\n",
    "                #print \"##########\\n###########\"\n",
    "            for elem in data1:\n",
    "                if elem['topics']:\n",
    "                    print (elem['topics'])\n",
    "                    member_df['topics'].at[z[1].Index]=elem['topics']\n",
    "                #print ()\"##########\\n###########\")\n",
    "            for elem in data2:\n",
    "                if elem['topics']:\n",
    "                    print (elem['topics'])\n",
    "                    member_df['topics'].at[z[2].Index]=elem['topics']['u']\n",
    "                #print (\"##########\\n###########\")\n",
    "        \n",
    "            if response0 is block_alert:\n",
    "                break\n",
    "            if response1 is block_alert:\n",
    "                break\n",
    "            if response2 is block_alert:\n",
    "                break\n",
    "            print count\n",
    "            if count is 100:\n",
    "                break\n",
    "            \n",
    "        #print member_df.head()\n",
    "\t\t#print \"exporting to csv\"\n",
    "        member_df.to_csv(\"../Csv/member_enriched.csv\")"
   ]
  },
  {
   "cell_type": "code",
   "execution_count": null,
   "metadata": {},
   "outputs": [],
   "source": [
    "def get_results(params):\n",
    "\n",
    "    request = requests.get(\"http://api.meetup.com/2/members\",params=params)\n",
    "    data = request.json()\n",
    "    #print data\n",
    "    #if count :\n",
    "    #    print \"#####\\n dataaa is \\n##########\"\n",
    "    #    print data\n",
    "    #iter_data=json.load(data)\n",
    "    #a=data['results']\n",
    "    #print(a)\n",
    "    #for elem in a:\n",
    "        #print(elem['topics'])\n",
    "    #print(request)\n",
    "    \n",
    "     \n",
    "    return data\n",
    "\n",
    "\n",
    "# In[123]:"
   ]
  },
  {
   "cell_type": "code",
   "execution_count": null,
   "metadata": {},
   "outputs": [],
   "source": [
    "if __name__==\"__main__\":\n",
    "        main()"
   ]
  }
 ],
 "metadata": {
  "kernelspec": {
   "display_name": "Python 3",
   "language": "python",
   "name": "python3"
  },
  "language_info": {
   "codemirror_mode": {
    "name": "ipython",
    "version": 3
   },
   "file_extension": ".py",
   "mimetype": "text/x-python",
   "name": "python",
   "nbconvert_exporter": "python",
   "pygments_lexer": "ipython3",
   "version": "3.6.7"
  }
 },
 "nbformat": 4,
 "nbformat_minor": 2
}
